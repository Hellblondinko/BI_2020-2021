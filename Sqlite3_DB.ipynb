{
 "cells": [
  {
   "cell_type": "code",
   "execution_count": 1,
   "id": "specialized-warner",
   "metadata": {},
   "outputs": [],
   "source": [
    "import sqlite3\n",
    "import pandas as pd\n",
    "import glob\n"
   ]
  },
  {
   "cell_type": "code",
   "execution_count": 2,
   "id": "visible-creation",
   "metadata": {},
   "outputs": [],
   "source": [
    "con = sqlite3.connect(r'C:\\Users\\sasha\\Documents\\Мои документы\\2021\\Grisha\\Cells.db')\n",
    "cursorObj = con.cursor()"
   ]
  },
  {
   "cell_type": "code",
   "execution_count": 3,
   "id": "awful-classroom",
   "metadata": {},
   "outputs": [],
   "source": [
    "cursorObj.execute('''CREATE TABLE intensity_vals (\n",
    "    id                     INTEGER PRIMARY KEY AUTOINCREMENT NOT NULL,\n",
    "    Mean_GFP_intensity     REAL,\n",
    "    Mean_Tubulin_intensity REAL,\n",
    "    Std_GFP_intensity      REAL,\n",
    "    Std_Tubulin_intensity  REAL,\n",
    "    phenotype              TEXT    REFERENCES phenotype (id) ON DELETE RESTRICT\n",
    "                                                             ON UPDATE CASCADE\n",
    ");''')\n",
    "con.commit()"
   ]
  },
  {
   "cell_type": "code",
   "execution_count": 4,
   "id": "actual-property",
   "metadata": {},
   "outputs": [],
   "source": [
    "path = r\"C:\\Users\\sasha\\Documents\\Мои документы\\2021\\Grisha\"\n",
    "all_files = glob.glob(path + \"/*.csv\")\n",
    "\n",
    "li = []\n",
    "for filename in all_files:\n",
    "    df = pd.read_csv(filename, index_col=None, header=0)\n",
    "    df['phenotype'] = filename[51:53]\n",
    "    li.append(df)\n",
    "\n",
    "all_data = pd.concat(li, axis=0, ignore_index=True)"
   ]
  },
  {
   "cell_type": "code",
   "execution_count": 5,
   "id": "korean-request",
   "metadata": {},
   "outputs": [
    {
     "data": {
      "text/html": [
       "<div>\n",
       "<style scoped>\n",
       "    .dataframe tbody tr th:only-of-type {\n",
       "        vertical-align: middle;\n",
       "    }\n",
       "\n",
       "    .dataframe tbody tr th {\n",
       "        vertical-align: top;\n",
       "    }\n",
       "\n",
       "    .dataframe thead th {\n",
       "        text-align: right;\n",
       "    }\n",
       "</style>\n",
       "<table border=\"1\" class=\"dataframe\">\n",
       "  <thead>\n",
       "    <tr style=\"text-align: right;\">\n",
       "      <th></th>\n",
       "      <th>Mean_GFP_intensity</th>\n",
       "      <th>Mean_Tubulin_intensity</th>\n",
       "      <th>Std_GFP_intensity</th>\n",
       "      <th>Std_Tubulin_intensity</th>\n",
       "      <th>phenotype</th>\n",
       "    </tr>\n",
       "  </thead>\n",
       "  <tbody>\n",
       "    <tr>\n",
       "      <th>0</th>\n",
       "      <td>0.018797</td>\n",
       "      <td>0.136437</td>\n",
       "      <td>0.001900</td>\n",
       "      <td>0.044344</td>\n",
       "      <td>1</td>\n",
       "    </tr>\n",
       "    <tr>\n",
       "      <th>1</th>\n",
       "      <td>0.018785</td>\n",
       "      <td>0.058284</td>\n",
       "      <td>0.001803</td>\n",
       "      <td>0.016634</td>\n",
       "      <td>1</td>\n",
       "    </tr>\n",
       "    <tr>\n",
       "      <th>2</th>\n",
       "      <td>0.023652</td>\n",
       "      <td>0.178897</td>\n",
       "      <td>0.005090</td>\n",
       "      <td>0.074361</td>\n",
       "      <td>1</td>\n",
       "    </tr>\n",
       "    <tr>\n",
       "      <th>3</th>\n",
       "      <td>0.019133</td>\n",
       "      <td>0.116139</td>\n",
       "      <td>0.001885</td>\n",
       "      <td>0.025173</td>\n",
       "      <td>1</td>\n",
       "    </tr>\n",
       "    <tr>\n",
       "      <th>4</th>\n",
       "      <td>0.019407</td>\n",
       "      <td>0.153829</td>\n",
       "      <td>0.001974</td>\n",
       "      <td>0.051390</td>\n",
       "      <td>1</td>\n",
       "    </tr>\n",
       "  </tbody>\n",
       "</table>\n",
       "</div>"
      ],
      "text/plain": [
       "   Mean_GFP_intensity  Mean_Tubulin_intensity  Std_GFP_intensity  \\\n",
       "0            0.018797                0.136437           0.001900   \n",
       "1            0.018785                0.058284           0.001803   \n",
       "2            0.023652                0.178897           0.005090   \n",
       "3            0.019133                0.116139           0.001885   \n",
       "4            0.019407                0.153829           0.001974   \n",
       "\n",
       "   Std_Tubulin_intensity  phenotype  \n",
       "0               0.044344          1  \n",
       "1               0.016634          1  \n",
       "2               0.074361          1  \n",
       "3               0.025173          1  \n",
       "4               0.051390          1  "
      ]
     },
     "execution_count": 5,
     "metadata": {},
     "output_type": "execute_result"
    }
   ],
   "source": [
    "data  = all_data[['Intensity_MeanIntensity_GFP','Intensity_MeanIntensity_Tubulin','Intensity_StdIntensity_GFP','Intensity_StdIntensity_Tubulin', 'phenotype']]\n",
    "data.head()\n",
    "data = data.rename(columns = {'Intensity_MeanIntensity_GFP' : 'Mean_GFP_intensity',\n",
    "                      'Intensity_MeanIntensity_Tubulin': 'Mean_Tubulin_intensity',\n",
    "                      'Intensity_StdIntensity_GFP' : 'Std_GFP_intensity',\n",
    "                      'Intensity_StdIntensity_Tubulin' : 'Std_Tubulin_intensity',\n",
    "                      'phenotype' : 'phenotype'})\n",
    "data.replace(to_replace={'Em': 1, 'Wt': 2, 'Mu': 3}, inplace=True)\n",
    "data.head()"
   ]
  },
  {
   "cell_type": "code",
   "execution_count": 6,
   "id": "saving-immigration",
   "metadata": {},
   "outputs": [],
   "source": [
    "data.to_sql(name = 'intensity_vals', con= con, if_exists = 'append',  index_label='id')\n"
   ]
  },
  {
   "cell_type": "code",
   "execution_count": 7,
   "id": "perfect-recipe",
   "metadata": {},
   "outputs": [],
   "source": [
    "con.commit()"
   ]
  },
  {
   "cell_type": "code",
   "execution_count": 8,
   "id": "lasting-spokesman",
   "metadata": {},
   "outputs": [],
   "source": [
    "cursorObj.execute('''CREATE TABLE phenotype (\n",
    "    id        INTEGER PRIMARY KEY AUTOINCREMENT\n",
    "                      NOT NULL,\n",
    "    phenotype TEXT    UNIQUE\n",
    "                      NOT NULL,\n",
    "    mutation  TEXT    UNIQUE\n",
    "                      NOT NULL\n",
    ")''')\n",
    "\n",
    "con.commit()\n",
    "records = [('Emty', 'GFP plasmid'),\n",
    "           ('Wild type', 'TBCE GFP'),\n",
    "           ('Mutant', 'TBCE 112W-A GFP')]\n",
    "cursorObj.executemany('INSERT INTO phenotype (phenotype, mutation) VALUES(?,?);',records);\n",
    "con.commit()\n",
    "cursorObj.execute('PRAGMA foreign_keys=on;')\n",
    "con.close()"
   ]
  },
  {
   "cell_type": "code",
   "execution_count": null,
   "id": "minute-george",
   "metadata": {},
   "outputs": [],
   "source": []
  },
  {
   "cell_type": "code",
   "execution_count": null,
   "id": "heard-bulgarian",
   "metadata": {},
   "outputs": [],
   "source": []
  },
  {
   "cell_type": "code",
   "execution_count": null,
   "id": "durable-catholic",
   "metadata": {},
   "outputs": [],
   "source": []
  },
  {
   "cell_type": "code",
   "execution_count": null,
   "id": "intelligent-panic",
   "metadata": {},
   "outputs": [],
   "source": []
  }
 ],
 "metadata": {
  "kernelspec": {
   "display_name": "Python 3",
   "language": "python",
   "name": "python3"
  },
  "language_info": {
   "codemirror_mode": {
    "name": "ipython",
    "version": 3
   },
   "file_extension": ".py",
   "mimetype": "text/x-python",
   "name": "python",
   "nbconvert_exporter": "python",
   "pygments_lexer": "ipython3",
   "version": "3.8.2"
  }
 },
 "nbformat": 4,
 "nbformat_minor": 5
}
